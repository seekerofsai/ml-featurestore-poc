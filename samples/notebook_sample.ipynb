{
 "cells": [
  {
   "cell_type": "code",
   "execution_count": null,
   "id": "046d61e2-09e4-4043-9732-a0d361e4b450",
   "metadata": {
    "tags": [],
    "pycharm": {
     "name": "#%%\n"
    }
   },
   "outputs": [],
   "source": [
    "! pip install --upgrade pip "
   ]
  },
  {
   "cell_type": "code",
   "execution_count": null,
   "id": "9b70222a-6e15-4fe6-bbcf-89587ab219a7",
   "metadata": {
    "tags": [],
    "pycharm": {
     "name": "#%%\n"
    }
   },
   "outputs": [],
   "source": [
    "! pip uninstall feast --yes\n",
    "! pip install feast --upgrade --no-cache-dir\n",
    "! pip install \"feast[redis,postgres,snowflake]\" --upgrade --no-cache-dir"
   ]
  },
  {
   "cell_type": "code",
   "execution_count": null,
   "id": "094aecaa-e4d3-496a-a532-cc3605670d12",
   "metadata": {
    "tags": [],
    "pycharm": {
     "name": "#%%\n"
    }
   },
   "outputs": [],
   "source": [
    "\n",
    "! pip install cryptography==38.0.4 --no-cache-dir\n",
    "! pip install pyOpenSSL==22.1.0 --no-cache-dir \n",
    "! pip install proto-plus==1.22.0 --no-cache-dir \n",
    "! pip install protobuf==3.20.1 --no-cache-dir "
   ]
  },
  {
   "cell_type": "code",
   "execution_count": null,
   "id": "a9fdbfb1-7079-420a-82f7-258221cfb334",
   "metadata": {
    "tags": [],
    "pycharm": {
     "name": "#%%\n"
    }
   },
   "outputs": [],
   "source": [
    "\n",
    "! pip uninstall typing_extensions --y\n",
    "! pip install typing_extensions==4.4.0\n",
    "\n",
    "import importlib\n",
    "import typing_extensions\n",
    "\n",
    "importlib.reload(typing_extensions)\n"
   ]
  },
  {
   "cell_type": "code",
   "execution_count": null,
   "id": "789f0bd9-4497-4851-ae7a-3ec6357578a7",
   "metadata": {
    "tags": [],
    "pycharm": {
     "name": "#%%\n"
    }
   },
   "outputs": [],
   "source": [
    "! pip uninstall feast --yes\n",
    "! pip install ./feast/feast --upgrade --no-cache-dir"
   ]
  },
  {
   "cell_type": "code",
   "execution_count": null,
   "id": "6f5ac696-a62a-4c85-9467-163d24f74327",
   "metadata": {
    "tags": [],
    "pycharm": {
     "name": "#%%\n"
    }
   },
   "outputs": [],
   "source": [
    "!feast version"
   ]
  },
  {
   "cell_type": "code",
   "execution_count": null,
   "id": "8d069b4b-dade-451c-b239-4b390588c45e",
   "metadata": {
    "tags": [],
    "pycharm": {
     "name": "#%%\n"
    }
   },
   "outputs": [],
   "source": [
    "import boto3\n",
    "ssm = boto3.client('ssm')\n",
    "postgresdb = ssm.get_parameter(Name='/data_platform/dev/featurestore/postgresdatabsename', WithDecryption=True)['Parameter']['Value']\n",
    "postgrespwd = ssm.get_parameter(Name='/data_platform/dev/featurestore/postgrespassword', WithDecryption=True)['Parameter']['Value']\n",
    "redisconn = ssm.get_parameter(Name='/data_platform/dev/featurestore/redisconnection', WithDecryption=True)['Parameter']['Value']\n",
    "redispwd = ssm.get_parameter(Name='/data_platform/dev/featurestore/redispassword', WithDecryption=True)['Parameter']['Value']\n",
    "snowflakeaccount = ssm.get_parameter(Name='/data_platform/dev/featurestore/snowflakeaccount', WithDecryption=True)['Parameter']['Value']\n",
    "snowflakepwd = ssm.get_parameter(Name='/data_platform/dev/featurestore/snowflakepassword', WithDecryption=True)['Parameter']['Value']\n",
    "snowflakeuser = ssm.get_parameter(Name='/data_platform/dev/featurestore/snowflakeuser', WithDecryption=True)['Parameter']['Value']\n",
    "snowflakedb = ssm.get_parameter(Name='/data_platform/dev/featurestore/snowflakewaredatabse', WithDecryption=True)['Parameter']['Value']\n",
    "snowflakewarehouse = ssm.get_parameter(Name='/data_platform/dev/featurestore/snowflakewarehouse', WithDecryption=True)['Parameter']['Value']\n",
    "snowflakeschema = ssm.get_parameter(Name='/data_platform/dev/featurestore/snowflakewareschema', WithDecryption=True)['Parameter']['Value']\n",
    "postgreshost = ssm.get_parameter(Name='/data_platform/dev/featurestore/postgreshost', WithDecryption=True)['Parameter']['Value']\n",
    "postgresuser = ssm.get_parameter(Name='/data_platform/dev/featurestore/postgresusername', WithDecryption=True)['Parameter']['Value'] \n",
    "snowflakerole = ssm.get_parameter(Name='/data_platform/dev/featurestore/snowflakerole', WithDecryption=True)['Parameter']['Value']  \n",
    "redisconn = 'clustercfg.dev-usw2-mlops-feast.kzznmy.usw2.cache.amazonaws.com:6379,password=xc9rM^BuTGBnJXhmH<0ldejoK3Mj5weauWO,ssl=true'"
   ]
  },
  {
   "cell_type": "code",
   "execution_count": null,
   "id": "4887ed52-b28c-4863-a8bd-f2b196316820",
   "metadata": {
    "tags": [],
    "pycharm": {
     "name": "#%%\n"
    }
   },
   "outputs": [],
   "source": [
    "from feast import FeatureStore, RepoConfig\n",
    "from feast.repo_config import RegistryConfig\n",
    "\n",
    "from feast.infra.online_stores.redis import RedisOnlineStoreConfig\n",
    "from feast.infra.offline_stores.snowflake import SnowflakeOfflineStoreConfig\n",
    "from feast.infra.materialization.snowflake_engine import SnowflakeMaterializationEngineConfig\n",
    "\n",
    "repo_config = RepoConfig(\n",
    "    registry= RegistryConfig(\n",
    "        registry_type = 'sql',\n",
    "        path = f'postgresql://{postgresuser}:{postgrespwd}@{postgreshost}/{postgresdb}'\n",
    "    ),\n",
    "    project=\"feast_demo_ds\",\n",
    "    provider=\"local\",\n",
    "    offline_store=SnowflakeOfflineStoreConfig(\n",
    "        account = snowflakeaccount,\n",
    "        user = snowflakeuser,\n",
    "        password = snowflakepwd,\n",
    "        role = snowflakerole,\n",
    "        warehouse = snowflakewarehouse,\n",
    "        database = snowflakedb,\n",
    "        schema = snowflakeschema\n",
    "    ),\n",
    "    online_store=RedisOnlineStoreConfig(\n",
    "        redis_type=\"redis_cluster\",\n",
    "        connection_string = redisconn\n",
    "    ),\n",
    "    batch_engine=\n",
    "        SnowflakeMaterializationEngineConfig(\n",
    "        account = snowflakeaccount,\n",
    "        user = snowflakeuser,\n",
    "        password = snowflakepwd,\n",
    "        role = snowflakerole,\n",
    "        warehouse = snowflakewarehouse,\n",
    "        database = snowflakedb,\n",
    "        schema = snowflakeschema\n",
    "    ),\n",
    "    entity_key_serialization_version=2\n",
    ")\n",
    "\n",
    "fs = FeatureStore(config=repo_config)\n"
   ]
  },
  {
   "cell_type": "code",
   "execution_count": null,
   "id": "6a453a4c-e7ba-4753-b088-7e3168855669",
   "metadata": {
    "tags": [],
    "pycharm": {
     "name": "#%%\n"
    }
   },
   "outputs": [],
   "source": [
    "%%time\n",
    "entity_sql = f\"\"\"\n",
    "    SELECT\n",
    "        NAMEORIG as USER_ID,\n",
    "        TIMESTAMP as \"event_timestamp\"\n",
    "    FROM {fs.get_data_source(\"transactions_source\").get_table_query_string()}\n",
    "    WHERE TIMESTAMP BETWEEN '2021-09-04 00:00:00+0' and '2021-09-14 00:00:00+0'\n",
    "\"\"\"\n",
    "training_df = fs.get_historical_features(\n",
    "    entity_df=entity_sql,\n",
    "    features=fs.get_feature_service(\"model_v2\"),\n",
    ").to_df()\n",
    "print(training_df.head(20))"
   ]
  },
  {
   "cell_type": "code",
   "execution_count": null,
   "id": "7ea82c83-d36b-4e78-b48f-20caee0fff39",
   "metadata": {
    "tags": [],
    "pycharm": {
     "name": "#%%\n"
    }
   },
   "outputs": [],
   "source": [
    "from datetime import datetime\n",
    "from dateutil.relativedelta import relativedelta\n",
    "startdate = datetime.strptime('2021-09-10', '%Y-%m-%d')\n",
    "enddate = datetime.strptime('2021-09-11', '%Y-%m-%d')\n",
    "\n",
    "fs.materialize(start_date= startdate, end_date=enddate)"
   ]
  },
  {
   "cell_type": "code",
   "execution_count": null,
   "id": "beb2c5be-8001-410c-8897-981cd2730bef",
   "metadata": {
    "tags": [],
    "pycharm": {
     "name": "#%%\n"
    }
   },
   "outputs": [],
   "source": [
    "features = fs.get_online_features(\n",
    "    features=fs.get_feature_service(\"model_v1\"),\n",
    "    entity_rows=[\n",
    "        {\n",
    "            \"USER_ID\": \"C612693043\",\n",
    "        }\n",
    "    ],\n",
    ").to_dict()"
   ]
  },
  {
   "cell_type": "code",
   "execution_count": null,
   "id": "95f1efed-e27d-473b-a48e-c33513469f3c",
   "metadata": {
    "tags": [],
    "pycharm": {
     "name": "#%%\n"
    }
   },
   "outputs": [],
   "source": [
    "def print_online_features(features):\n",
    "    for key, value in sorted(features.items()):\n",
    "        print(key, \" : \", value)\n",
    "\n",
    "print_online_features(features)"
   ]
  },
  {
   "cell_type": "code",
   "execution_count": null,
   "id": "96f4dded-9a9c-45b9-9139-86a008003ef9",
   "metadata": {
    "tags": [],
    "pycharm": {
     "name": "#%%\n"
    }
   },
   "outputs": [],
   "source": [
    "from feast import FeatureStore, RepoConfig\n",
    "from feast.repo_config import RegistryConfig\n",
    "\n",
    "from feast.infra.online_stores.redis import RedisOnlineStoreConfig\n",
    "from feast.infra.offline_stores.snowflake import SnowflakeOfflineStoreConfig\n",
    "from feast.infra.materialization.snowflake_engine import SnowflakeMaterializationEngineConfig\n",
    "fs4 = FeatureStore(repo_path=\"./feature_repo\")"
   ]
  },
  {
   "cell_type": "code",
   "execution_count": null,
   "id": "7cf0071b-d221-4ddf-a281-649626402a37",
   "metadata": {
    "tags": [],
    "pycharm": {
     "name": "#%%\n"
    }
   },
   "outputs": [],
   "source": [
    "%%time\n",
    "from datetime import datetime\n",
    "from dateutil.relativedelta import relativedelta\n",
    "startdate = datetime.strptime('2021-01-01', '%Y-%m-%d')\n",
    "enddate = datetime.strptime('2023-04-10', '%Y-%m-%d')\n",
    "\n",
    "fs4.materialize(start_date= startdate, end_date=enddate)"
   ]
  },
  {
   "cell_type": "code",
   "execution_count": null,
   "id": "f2b68a22-024b-4556-82e6-6045380585b6",
   "metadata": {
    "tags": [],
    "pycharm": {
     "name": "#%%\n"
    }
   },
   "outputs": [],
   "source": [
    "\n",
    "def get_onlinefeatures_from_featurestore(userid):\n",
    "    features_online = fs4.get_online_features(\n",
    "        features=fs4.get_feature_service(\"model_v2\"),\n",
    "            entity_rows=[\n",
    "            {\n",
    "                \"USER_ID\": userid,\n",
    "            }\n",
    "        ],\n",
    "    ).to_dict()\n",
    "    return features_online"
   ]
  },
  {
   "cell_type": "code",
   "execution_count": null,
   "id": "66c5bf0d-3d26-493c-8f97-fe1764d46cc8",
   "metadata": {
    "tags": [],
    "pycharm": {
     "name": "#%%\n"
    }
   },
   "outputs": [],
   "source": [
    "%%time\n",
    "features = get_onlinefeatures_from_featurestore(\"C612693043\")\n",
    "def print_online_features(features):\n",
    "        for key, value in sorted(features.items()):\n",
    "            print(key, \" : \", value)\n",
    "\n",
    "print_online_features(features)"
   ]
  },
  {
   "cell_type": "code",
   "execution_count": null,
   "id": "1663d5cc-b06d-4a41-80df-dd0d81e3eaaa",
   "metadata": {
    "pycharm": {
     "name": "#%%\n"
    }
   },
   "outputs": [],
   "source": [
    "import json\n",
    "import requests\n",
    "\n",
    "def get_online_features_from_feastserver(userid):\n",
    "    online_request = {\n",
    "      \"feature_service\": \"model_v2\",\n",
    "      \"entities\": {\n",
    "        \"USER_ID\": [userid]\n",
    "      }\n",
    "    }\n",
    "    r = requests.post('http://feast.data-plat-dev.cloud/get-online-features', data=json.dumps(online_request))\n",
    "\n",
    "    return r\n"
   ]
  },
  {
   "cell_type": "code",
   "execution_count": null,
   "id": "905ee2c5-41c1-437b-aed4-a07db95f7bb9",
   "metadata": {
    "tags": [],
    "pycharm": {
     "name": "#%%\n"
    }
   },
   "outputs": [],
   "source": [
    "%%time\n",
    "response = get_online_features_from_feastserver(\"C612693043\")\n",
    "print(json.dumps(response.json(), indent=4, sort_keys=True))"
   ]
  },
  {
   "cell_type": "code",
   "execution_count": null,
   "id": "851e6281-0abe-4041-8d4c-62403b2aca7b",
   "metadata": {
    "pycharm": {
     "name": "#%%\n"
    }
   },
   "outputs": [],
   "source": []
  }
 ],
 "metadata": {
  "forced_instance_type": "ml.t3.medium",
  "forced_lcc_arn": "",
  "instance_type": "ml.t3.medium",
  "kernelspec": {
   "display_name": "Python 3 (Data Science 3.0)",
   "language": "python",
   "name": "python3__SAGEMAKER_INTERNAL__arn:aws:sagemaker:us-west-2:236514542706:image/sagemaker-data-science-310-v1"
  },
  "language_info": {
   "codemirror_mode": {
    "name": "ipython",
    "version": 3
   },
   "file_extension": ".py",
   "mimetype": "text/x-python",
   "name": "python",
   "nbconvert_exporter": "python",
   "pygments_lexer": "ipython3",
   "version": "3.10.6"
  }
 },
 "nbformat": 4,
 "nbformat_minor": 5
}